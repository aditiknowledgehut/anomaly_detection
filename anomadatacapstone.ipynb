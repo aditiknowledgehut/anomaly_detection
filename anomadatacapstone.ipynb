{
 "cells": [
  {
   "cell_type": "code",
   "execution_count": 15,
   "id": "d152c320",
   "metadata": {},
   "outputs": [],
   "source": [
    "import pandas as pd\n",
    "import numpy as np\n",
    "import seaborn as sns\n",
    "import matplotlib.pyplot as plt\n",
    "from sklearn.model_selection import train_test_split\n",
    "from sklearn.ensemble import IsolationForest\n",
    "from sklearn.metrics import accuracy_score, precision_score, recall_score, f1_score, roc_auc_score, precision_recall_curve, auc"
   ]
  },
  {
   "cell_type": "code",
   "execution_count": 2,
   "id": "a8dd401a",
   "metadata": {},
   "outputs": [],
   "source": [
    "# Step 1: Collect the Time Series Data\n",
    "data = pd.read_csv('AnomaData.csv')"
   ]
  },
  {
   "cell_type": "code",
   "execution_count": 3,
   "id": "6fd581d0",
   "metadata": {},
   "outputs": [
    {
     "name": "stdout",
     "output_type": "stream",
     "text": [
      "<class 'pandas.core.frame.DataFrame'>\n",
      "RangeIndex: 18398 entries, 0 to 18397\n",
      "Data columns (total 62 columns):\n",
      " #   Column  Non-Null Count  Dtype  \n",
      "---  ------  --------------  -----  \n",
      " 0   time    18398 non-null  object \n",
      " 1   y       18398 non-null  int64  \n",
      " 2   x1      18398 non-null  float64\n",
      " 3   x2      18398 non-null  float64\n",
      " 4   x3      18398 non-null  float64\n",
      " 5   x4      18398 non-null  float64\n",
      " 6   x5      18398 non-null  float64\n",
      " 7   x6      18398 non-null  float64\n",
      " 8   x7      18398 non-null  float64\n",
      " 9   x8      18398 non-null  float64\n",
      " 10  x9      18398 non-null  float64\n",
      " 11  x10     18398 non-null  float64\n",
      " 12  x11     18398 non-null  float64\n",
      " 13  x12     18398 non-null  float64\n",
      " 14  x13     18398 non-null  float64\n",
      " 15  x14     18398 non-null  float64\n",
      " 16  x15     18398 non-null  float64\n",
      " 17  x16     18398 non-null  float64\n",
      " 18  x17     18398 non-null  float64\n",
      " 19  x18     18398 non-null  float64\n",
      " 20  x19     18398 non-null  float64\n",
      " 21  x20     18398 non-null  float64\n",
      " 22  x21     18398 non-null  float64\n",
      " 23  x22     18398 non-null  float64\n",
      " 24  x23     18398 non-null  float64\n",
      " 25  x24     18398 non-null  float64\n",
      " 26  x25     18398 non-null  float64\n",
      " 27  x26     18398 non-null  float64\n",
      " 28  x27     18398 non-null  float64\n",
      " 29  x28     18398 non-null  int64  \n",
      " 30  x29     18398 non-null  float64\n",
      " 31  x30     18398 non-null  float64\n",
      " 32  x31     18398 non-null  float64\n",
      " 33  x32     18398 non-null  float64\n",
      " 34  x33     18398 non-null  float64\n",
      " 35  x34     18398 non-null  float64\n",
      " 36  x35     18398 non-null  float64\n",
      " 37  x36     18398 non-null  float64\n",
      " 38  x37     18398 non-null  float64\n",
      " 39  x38     18398 non-null  float64\n",
      " 40  x39     18398 non-null  float64\n",
      " 41  x40     18398 non-null  float64\n",
      " 42  x41     18398 non-null  float64\n",
      " 43  x42     18398 non-null  float64\n",
      " 44  x43     18398 non-null  float64\n",
      " 45  x44     18398 non-null  float64\n",
      " 46  x45     18398 non-null  float64\n",
      " 47  x46     18398 non-null  float64\n",
      " 48  x47     18398 non-null  float64\n",
      " 49  x48     18398 non-null  float64\n",
      " 50  x49     18398 non-null  float64\n",
      " 51  x50     18398 non-null  float64\n",
      " 52  x51     18398 non-null  float64\n",
      " 53  x52     18398 non-null  float64\n",
      " 54  x54     18398 non-null  float64\n",
      " 55  x55     18398 non-null  float64\n",
      " 56  x56     18398 non-null  float64\n",
      " 57  x57     18398 non-null  float64\n",
      " 58  x58     18398 non-null  float64\n",
      " 59  x59     18398 non-null  float64\n",
      " 60  x60     18398 non-null  float64\n",
      " 61  y.1     18398 non-null  int64  \n",
      "dtypes: float64(58), int64(3), object(1)\n",
      "memory usage: 8.7+ MB\n",
      "None\n",
      "                  y            x1            x2            x3            x4  \\\n",
      "count  18398.000000  18398.000000  18398.000000  18398.000000  18398.000000   \n",
      "mean       0.006740      0.011824      0.157986      0.569300     -9.958345   \n",
      "std        0.081822      0.742875      4.939762      5.937178    131.033712   \n",
      "min        0.000000     -3.787279    -17.316550    -18.198509   -322.781610   \n",
      "25%        0.000000     -0.405681     -2.158235     -3.537054   -111.378372   \n",
      "50%        0.000000      0.128245     -0.075505     -0.190683    -14.881585   \n",
      "75%        0.000000      0.421222      2.319297      3.421223     92.199134   \n",
      "max        1.000000      3.054156     16.742105     15.900116    334.694098   \n",
      "\n",
      "                 x5            x6            x7            x8            x9  \\\n",
      "count  18398.000000  18398.000000  18398.000000  18398.000000  18398.000000   \n",
      "mean       0.006518      2.387533      0.001647     -0.004125     -0.003056   \n",
      "std        0.634054     37.104012      0.108870      0.075460      0.156047   \n",
      "min       -1.623988   -279.408440     -0.429273     -0.451141     -0.120087   \n",
      "25%       -0.446787    -24.345268     -0.058520     -0.051043     -0.059966   \n",
      "50%       -0.120745     10.528435     -0.009338     -0.000993     -0.030057   \n",
      "75%        0.325152     32.172974      0.060515      0.038986      0.001990   \n",
      "max        4.239385     96.060768      1.705590      0.788826      4.060033   \n",
      "\n",
      "       ...           x51           x52           x54           x55  \\\n",
      "count  ...  18398.000000  18398.000000  18398.000000  18398.000000   \n",
      "mean   ...     -3.357339      0.380519      0.173708      2.379154   \n",
      "std    ...    348.256716      6.211598      3.029516     67.940694   \n",
      "min    ...  -3652.989000   -187.943440     -8.210370   -230.574030   \n",
      "25%    ...     29.984624     -3.672684      0.487780    -40.050046   \n",
      "50%    ...     29.984624      0.294846      0.702299     17.471317   \n",
      "75%    ...     29.984624      5.109543      2.675751     44.093387   \n",
      "max    ...     40.152348     14.180588      6.637265    287.252017   \n",
      "\n",
      "                x56           x57           x58           x59           x60  \\\n",
      "count  18398.000000  18398.000000  18398.000000  18398.000000  18398.000000   \n",
      "mean       9.234953      0.233493     -0.001861     -0.061522      0.001258   \n",
      "std       81.274103      2.326838      0.048732     10.394085      0.004721   \n",
      "min     -269.039500    -12.640370     -0.149790   -100.810500     -0.012229   \n",
      "25%      -45.519149     -1.598804      0.000470      0.295023     -0.001805   \n",
      "50%        1.438806      0.085826      0.012888      0.734591      0.000710   \n",
      "75%       63.209681      2.222118      0.020991      1.266506      0.004087   \n",
      "max      252.147455      6.922008      0.067249      6.985460      0.020510   \n",
      "\n",
      "                y.1  \n",
      "count  18398.000000  \n",
      "mean       0.001033  \n",
      "std        0.032120  \n",
      "min        0.000000  \n",
      "25%        0.000000  \n",
      "50%        0.000000  \n",
      "75%        0.000000  \n",
      "max        1.000000  \n",
      "\n",
      "[8 rows x 61 columns]\n"
     ]
    }
   ],
   "source": [
    "# Step 2: Exploratory Data Analysis (EDA)\n",
    "# Data quality check\n",
    "print(data.info())\n",
    "print(data.describe())"
   ]
  },
  {
   "cell_type": "code",
   "execution_count": 4,
   "id": "e7e38e9d",
   "metadata": {},
   "outputs": [],
   "source": [
    "# Treat missing values\n",
    "data.dropna(inplace=True)  # Drop rows with missing values for simplicity"
   ]
  },
  {
   "cell_type": "code",
   "execution_count": 5,
   "id": "bc9e5a6f",
   "metadata": {},
   "outputs": [],
   "source": [
    "# Treat outliers using z-score method\n",
    "def treat_outliers_zscore(data, threshold=3):\n",
    "    z_scores = np.abs((data - data.mean()) / data.std())\n",
    "    data_filtered = data[z_scores < threshold]\n",
    "    return data_filtered"
   ]
  },
  {
   "cell_type": "code",
   "execution_count": 6,
   "id": "9f9f48f0",
   "metadata": {},
   "outputs": [],
   "source": [
    "# Visualize the data before and after treating outliers\n",
    "def visualize_data(data, title):\n",
    "    plt.figure(figsize=(12, 6))\n",
    "    sns.histplot(data=data, kde=True)\n",
    "    plt.title(title)\n",
    "    plt.show()\n"
   ]
  },
  {
   "cell_type": "code",
   "execution_count": 7,
   "id": "d443f41c",
   "metadata": {},
   "outputs": [
    {
     "data": {
      "image/png": "[encoded data removed]",
      "text/plain": [
       "<Figure size 1200x600 with 1 Axes>"
      ]
     },
     "metadata": {},
     "output_type": "display_data"
    }
   ],
   "source": [
    "# Visualize the target variable before outlier treatment\n",
    "visualize_data(data['y'], title='Before Outlier Treatment')"
   ]
  },
  {
   "cell_type": "code",
   "execution_count": 8,
   "id": "a088f239",
   "metadata": {},
   "outputs": [],
   "source": [
    "# Treat outliers using z-score method\n",
    "data_filtered_zscore = treat_outliers_zscore(data['y'])\n"
   ]
  },
  {
   "cell_type": "code",
   "execution_count": 9,
   "id": "dedd15d4",
   "metadata": {},
   "outputs": [
    {
     "data": {
      "image/png": "[encoded data removed]",
      "text/plain": [
       "<Figure size 1200x600 with 1 Axes>"
      ]
     },
     "metadata": {},
     "output_type": "display_data"
    }
   ],
   "source": [
    "# Visualize the target variable after outlier treatment\n",
    "visualize_data(data_filtered_zscore, title='After Outlier Treatment (Z-score Method)')"
   ]
  },
  {
   "cell_type": "code",
   "execution_count": 11,
   "id": "6a3e2c80",
   "metadata": {},
   "outputs": [],
   "source": [
    "# Step 3: Get the Correct Datatype for Date\n",
    "data['time'] = pd.to_datetime(data['time'])\n"
   ]
  },
  {
   "cell_type": "code",
   "execution_count": 14,
   "id": "a2632660",
   "metadata": {},
   "outputs": [],
   "source": [
    "# Extract the target variable 'y'\n",
    "y = data['y']\n",
    "\n",
    "# Drop the 'time' and 'y' columns from the dataset as they are not predictors\n",
    "data.drop(columns=['time', 'y'], inplace=True)\n",
    "\n",
    "# Feature Engineering\n",
    "# Example 1: Calculating the mean of the 'x' columns\n",
    "data['x_mean'] = data.mean(axis=1)\n",
    "\n",
    "# Example 2: Calculating the standard deviation of the 'x' columns\n",
    "data['x_std'] = data.std(axis=1)\n",
    "\n",
    "# Example 3: Calculating the maximum value of the 'x' columns\n",
    "data['x_max'] = data.max(axis=1)\n",
    "\n",
    "# Example 4: Calculating the minimum value of the 'x' columns\n",
    "data['x_min'] = data.min(axis=1)\n",
    "\n",
    "# Example 5: Calculating the range of the 'x' columns\n",
    "data['x_range'] = data['x_max'] - data['x_min']\n",
    "\n",
    "# Example 6: Calculating the sum of the 'x' columns\n",
    "data['x_sum'] = data.sum(axis=1)\n",
    "\n",
    "# Example 7: Calculating the median of the 'x' columns\n",
    "data['x_median'] = data.median(axis=1)\n",
    "\n",
    "# Example 8: Calculating the skewness of the 'x' columns\n",
    "data['x_skew'] = data.skew(axis=1)\n",
    "\n",
    "# Example 9: Calculating the kurtosis of the 'x' columns\n",
    "data['x_kurtosis'] = data.kurtosis(axis=1)\n",
    "\n",
    "# Example 10: Calculating the variance of the 'x' columns\n",
    "data['x_var'] = data.var(axis=1)\n",
    "\n",
    "# Save the modified dataset\n",
    "data.to_csv('modified_anomadata.csv', index=False)\n"
   ]
  },
  {
   "cell_type": "code",
   "execution_count": 20,
   "id": "716a5141",
   "metadata": {},
   "outputs": [],
   "source": [
    "# Define the feature matrix X\n",
    "X = data\n",
    "\n",
    "# Split the data into train and test sets\n",
    "X_train, X_test, y_train, y_test = train_test_split(X, y, test_size=0.2, random_state=42)\n",
    "\n",
    "# Model 1: Isolation Forest\n",
    "iforest = IsolationForest(contamination=0.1, random_state=42)\n",
    "iforest.fit(X_train)\n",
    "\n",
    "# Predict outliers\n",
    "y_pred_iforest_train = iforest.predict(X_train)\n",
    "y_pred_iforest_test = iforest.predict(X_test)\n"
   ]
  },
  {
   "cell_type": "code",
   "execution_count": 24,
   "id": "7202fc73",
   "metadata": {},
   "outputs": [],
   "source": [
    "# Convert predictions to binary labels (1 for anomaly, -1 for normal)\n",
    "y_pred_iforest_train_binary = np.where(y_pred_iforest_train == -1, 1, 0)\n",
    "y_pred_iforest_test_binary = np.where(y_pred_iforest_test == -1, 1, 0)"
   ]
  },
  {
   "cell_type": "code",
   "execution_count": 25,
   "id": "eb002371",
   "metadata": {},
   "outputs": [
    {
     "name": "stdout",
     "output_type": "stream",
     "text": [
      "Accuracy: 0.9940217391304348\n",
      "Precision: 0.0\n",
      "Recall: 0.0\n",
      "F1 Score: 0.0\n",
      "ROC AUC Score: 0.5\n"
     ]
    },
    {
     "name": "stderr",
     "output_type": "stream",
     "text": [
      "C:\\Users\\SONY\\anaconda3\\Lib\\site-packages\\sklearn\\metrics\\_classification.py:1469: UndefinedMetricWarning: Precision is ill-defined and being set to 0.0 due to no predicted samples. Use `zero_division` parameter to control this behavior.\n",
      "  _warn_prf(average, modifier, msg_start, len(result))\n"
     ]
    }
   ],
   "source": [
    "# Step 8: Model Evaluation\n",
    "# Evaluate the model using chosen metrics\n",
    "accuracy = accuracy_score(y_test, y_pred_iforest_test_binary)\n",
    "precision = precision_score(y_test, y_pred_iforest_test_binary)\n",
    "recall = recall_score(y_test, y_pred_iforest_test_binary)\n",
    "f1 = f1_score(y_test, y_pred_iforest_test_binary)\n",
    "roc_auc = roc_auc_score(y_test, y_pred_iforest_test_binary)\n",
    "\n",
    "print(\"Accuracy:\", accuracy)\n",
    "print(\"Precision:\", precision)\n",
    "print(\"Recall:\", recall)\n",
    "print(\"F1 Score:\", f1)\n",
    "print(\"ROC AUC Score:\", roc_auc)"
   ]
  }
 ],
 "metadata": {
  "kernelspec": {
   "display_name": "Python 3 (ipykernel)",
   "language": "python",
   "name": "python3"
  },
  "language_info": {
   "codemirror_mode": {
    "name": "ipython",
    "version": 3
   },
   "file_extension": ".py",
   "mimetype": "text/x-python",
   "name": "python",
   "nbconvert_exporter": "python",
   "pygments_lexer": "ipython3",
   "version": "3.11.4"
  }
 },
 "nbformat": 4,
 "nbformat_minor": 5
}
